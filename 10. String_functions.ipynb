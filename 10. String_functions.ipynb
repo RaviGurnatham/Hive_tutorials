{
 "cells": [
  {
   "cell_type": "markdown",
   "metadata": {},
   "source": [
    "Hive by deafult provides functions to manipulate the data. Hive functions includes for strings, Date, mathematical functions etc.\n",
    "\n",
    "- Date functions\n",
    "- Mathematical functions\n",
    "- String functions"
   ]
  },
  {
   "cell_type": "markdown",
   "metadata": {},
   "source": [
    "# String functions\n",
    "![](./pics/n101.png)\n",
    "\n",
    "\n",
    "- concat(string a , concat_char, string b):\n",
    "\n",
    "![](./pics/n102.png)\n",
    "\n",
    "- lower(string a): \n",
    "\n",
    "![](./pics/n103.png)\n",
    "\n",
    "\n",
    "- reverse(string A):\n",
    "![](./pics/n104.png)\n",
    "\n",
    "\n",
    "- ascii(string str):\n",
    "\n",
    "![](./pics/n105.png)\n",
    "\n",
    "\n",
    "- length(string A):\n",
    "![](./pics/n106.png)\n",
    "\n",
    "\n",
    "- lpad(string a, int length, string pad) :\n",
    "![](./pics/n107.png)\n",
    "\n",
    "\n",
    "- rpad(string a, int length, string pad) :\n",
    "![](./pics/n108.png)\n",
    "\n",
    "\n",
    "- ltrim(string A):\n",
    "![](./pics/n110.png)\n",
    "\n",
    "\n",
    "- rtrim(string a):\n",
    "![](./pics/n111.png)\n",
    "\n",
    "\n",
    "- split(string str, string pat)\t:\n",
    "![](./pics/n114.png)\n",
    "\n",
    "\n",
    "- trim(string A)\n",
    "\n",
    "![](./pics/n112.png)\n",
    "\n",
    "\n",
    "- upper(string A)\n",
    "\n",
    "![](./pics/n113.png)\n",
    "\n",
    "\n",
    "- substr(string A, int starting_index, int end_index)\n",
    "\n",
    "![](./pics/n115.png)\n",
    "\n",
    "- instr(string A, string sub_string)\n",
    "\n",
    "![](./pics/n116.png)\n",
    "\n",
    "\n",
    "# and many more.. \n",
    "https://cwiki.apache.org/confluence/display/Hive/LanguageManual+UDF"
   ]
  }
 ],
 "metadata": {
  "kernelspec": {
   "display_name": "Python 3",
   "language": "python",
   "name": "python3"
  },
  "language_info": {
   "codemirror_mode": {
    "name": "ipython",
    "version": 3
   },
   "file_extension": ".py",
   "mimetype": "text/x-python",
   "name": "python",
   "nbconvert_exporter": "python",
   "pygments_lexer": "ipython3",
   "version": "3.7.1"
  }
 },
 "nbformat": 4,
 "nbformat_minor": 2
}
