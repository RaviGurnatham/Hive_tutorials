{
 "cells": [
  {
   "cell_type": "markdown",
   "metadata": {},
   "source": [
    "# Load data into tables\n",
    "![](./pics/load_data.png) <br><br>\n",
    "Till now, we have seen how to create inernal & external tables. Lets now see how we can load data to tables from local files and inserting data from another tables"
   ]
  },
  {
   "cell_type": "markdown",
   "metadata": {},
   "source": [
    "# Loading from local file system into table\n",
    "\n",
    "- We can load the data from a local file to hive table but the important thing is **the metadata of table should match the metadata of the file**.\n",
    "\n",
    "\n",
    "![](./pics/n22.png)\n",
    "\n",
    "- Lets view the contents of the file. <br>\n",
    "![](./pics/n23.png)\n",
    "\n"
   ]
  },
  {
   "cell_type": "markdown",
   "metadata": {},
   "source": [
    "# Loading data from the existing table\n",
    "\n",
    "- We can load the data from already existing table into another table but the metadata should match.\n",
    "\n",
    "\n",
    "![](./pics/n24.png)\n",
    "\n",
    "\n",
    " Note: **insert command will append the data at the end of table**\n",
    "- Lets view the table contents <br>\n",
    "\n",
    "![](./pics/n25q.png)\n",
    "\n",
    "- Again inserting will append the data to existing table <br>\n",
    "![](./pics/n27.png)\n",
    "![](./pics/n26.png)  <br><br>\n",
    "\n",
    "- We have to use overwrite in order to overwrite the present contents and write newly <br>\n",
    "\n",
    "\n",
    "![](./pics/n28.png)\n",
    "![](./pics/n29.png)  <br><br>\n",
    "\n",
    "\n"
   ]
  },
  {
   "cell_type": "markdown",
   "metadata": {},
   "source": [
    "# Loading data from the HDFS file\n",
    "\n",
    "- We can load the data from aleready existing HDFS file.\n",
    "\n",
    "**1. lets add some data to the HDFS filesystem.**\n",
    "\n",
    "\n",
    "\n",
    "\n",
    "![](./pics/n201.png)\n",
    "\n",
    "\n",
    "![](./pics/n202.png)\n",
    "\n",
    "\n",
    "![](./pics/n203.png)\n",
    "\n",
    "\n",
    "\n",
    "![](./pics/n204.png)\n",
    "\n",
    "\n",
    "- **create a new table called animals and in the csv file 1 row is header so we have to skip that row which we are adding a table property in the properties** <br>\n",
    "\n",
    "![](./pics/n206.png)\n",
    "\n",
    "\n",
    "\n",
    "- **load data from hdfs file systems** <br>\n",
    "\n",
    "![](./pics/n207.png)\n",
    "\n",
    "\n",
    "\n",
    "- **view contents of the file (file moved from original hdfs location to the current table location)** <br>\n",
    "\n",
    "![](./pics/n208.png)\n",
    "\n",
    "\n",
    "\n",
    "\n",
    "\n",
    "\n",
    "\n",
    "\n"
   ]
  }
 ],
 "metadata": {
  "kernelspec": {
   "display_name": "Python 3",
   "language": "python",
   "name": "python3"
  },
  "language_info": {
   "codemirror_mode": {
    "name": "ipython",
    "version": 3
   },
   "file_extension": ".py",
   "mimetype": "text/x-python",
   "name": "python",
   "nbconvert_exporter": "python",
   "pygments_lexer": "ipython3",
   "version": "3.7.1"
  }
 },
 "nbformat": 4,
 "nbformat_minor": 2
}
