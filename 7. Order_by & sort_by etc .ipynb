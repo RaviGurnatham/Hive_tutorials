{
 "cells": [
  {
   "cell_type": "markdown",
   "metadata": {},
   "source": [
    "# order by, sort by , cluster by\n",
    "In this article, we will discuss about order by, sort by , cluster by clause"
   ]
  },
  {
   "cell_type": "markdown",
   "metadata": {},
   "source": [
    "# order by\n",
    "- The ORDER BY syntax in Hive is similar to the syntax of ORDER BY in SQL language.\n",
    "\n",
    "- Order by is the clause we use with \"SELECT\" statement in Hive queries, which helps us to sort data.\n",
    "\n",
    "- order by clause uses only one reducer in map reducer so **inlcude limit while using in production because we will have lot of data in production**\n",
    "\n",
    "\n",
    "- Note: Here I'm using accidents dataset occured in 2006 year across the country for india.\n",
    "\n",
    "![](./pics/n701.png)\n",
    "\n",
    "\n",
    "- order by clause uses only one reducer at the end\n",
    "\n",
    "![](./pics/n702.png)\n",
    "\n",
    "- order by clause with string results based on lexicographical order. \n",
    "\n"
   ]
  },
  {
   "cell_type": "markdown",
   "metadata": {},
   "source": [
    "# sort by\n",
    "\n",
    "- Sort by clause performs on column names of Hive tables to sort the output   <br><br>\n",
    "\n",
    "- Sorting values depends on the reducer and sort by default has 2 (Two) reducers. so total outcome depends each reducer and overall outcome will not be a total sort over elements. <br><br>\n",
    "\n",
    "- if column types are numeric it will sort in numeric order if the columns types are string it will sort in lexicographical order. <br><br>\n",
    "\n",
    "- orders data at each of N reducers, but each reducer can receive overlapping ranges of data. You end up with N or more sorted files with overlapping ranges.\n",
    "\n",
    "\n",
    "![](./pics/n703.png)\n",
    "\n",
    "\n",
    "- Note : here we have 2 reducers for given data and data might overlpping to each partition so overall outcome is not sorted overally.\n",
    "\n",
    "\n",
    "\n",
    "![](./pics/n704.png)\n",
    "\n",
    "- Note : result is not overall sort of the column but a bit of the column\n",
    "\n"
   ]
  },
  {
   "cell_type": "markdown",
   "metadata": {},
   "source": [
    "# Distribute By:\n",
    "Distribute BY clause used on the tables in Hive. Hive uses the columns in Distribute by to distribute the rows among reducers. All Distribute BY columns will go to the same reducer.\n",
    "\n",
    "- All rows with a distribute column will go to the same reducer. <br><br>\n",
    "\n",
    "- Each dataset will have non-overlapping keys so each reducer will get non-overlapping distribute by keys. <br><br>\n",
    "\n",
    "- It doesn't sort the output of each reducer. <br><br>\n",
    "\n"
   ]
  },
  {
   "cell_type": "markdown",
   "metadata": {},
   "source": [
    "# cluster by\n",
    "\n",
    "Cluster By used as an alternative for both **Distribute BY and Sort BY** clauses in hive query language.\n",
    "\n",
    "- it will sort the values according to each reducer \n",
    "\n",
    "![](./pics/n705.png)\n",
    "\n",
    "- **Note**: data distributed among many reducers and data will sorted at each reducer.\n",
    "\n",
    "![](./pics/n706.png)\n",
    "\n"
   ]
  },
  {
   "cell_type": "markdown",
   "metadata": {},
   "source": [
    "# Group by\n",
    "\n",
    "- Group by will group the data according to the given column\n",
    "\n",
    "- Count the number of records for each gender.\n",
    "\n",
    "\n",
    "![](./pics/n707.png)"
   ]
  },
  {
   "cell_type": "markdown",
   "metadata": {},
   "source": []
  },
  {
   "cell_type": "markdown",
   "metadata": {},
   "source": []
  },
  {
   "cell_type": "markdown",
   "metadata": {},
   "source": []
  }
 ],
 "metadata": {
  "kernelspec": {
   "display_name": "Python 3",
   "language": "python",
   "name": "python3"
  },
  "language_info": {
   "codemirror_mode": {
    "name": "ipython",
    "version": 3
   },
   "file_extension": ".py",
   "mimetype": "text/x-python",
   "name": "python",
   "nbconvert_exporter": "python",
   "pygments_lexer": "ipython3",
   "version": "3.7.1"
  }
 },
 "nbformat": 4,
 "nbformat_minor": 2
}
