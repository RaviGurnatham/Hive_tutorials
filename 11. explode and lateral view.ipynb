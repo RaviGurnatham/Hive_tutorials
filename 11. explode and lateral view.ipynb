{
 "cells": [
  {
   "cell_type": "markdown",
   "metadata": {},
   "source": [
    "# explode & lateral view\n",
    "\n",
    "![](./pics/l1.png)\n",
    "\n",
    "- **Note** : This is how our dataset looks like and two columns namely **name, sub_ordinates**\n",
    "\n",
    "**Here our task is to get one row for each employee and its subordinate like below**\n",
    "![](./pics/l4.png)\n",
    "\n",
    "\n",
    "**explode()**: This function will explode all the possible values into a single column.\n",
    "![](./pics/l2.png)\n",
    "\n",
    "\n",
    "- Note : **we can use other columns with explode() , so this is a limitation . So to avoid that limitation we will use lateral view which generates a temporary table and joins it back to the original table in order to get it with multiple columns.**\n",
    "\n",
    "![](./pics/l3.png)\n",
    "\n"
   ]
  },
  {
   "cell_type": "markdown",
   "metadata": {},
   "source": [
    "# another use-case:\n",
    "\n",
    "**if we have column with map then we can use lateral view and explode to get two separate cloumns out of map type.**\n",
    "\n",
    "![](./pics/l104.png)\n",
    "\n",
    "\n",
    "![](./pics/l105.png)\n",
    "\n",
    "\n",
    "![](./pics/l106.png)\n"
   ]
  }
 ],
 "metadata": {
  "kernelspec": {
   "display_name": "Python 3",
   "language": "python",
   "name": "python3"
  },
  "language_info": {
   "codemirror_mode": {
    "name": "ipython",
    "version": 3
   },
   "file_extension": ".py",
   "mimetype": "text/x-python",
   "name": "python",
   "nbconvert_exporter": "python",
   "pygments_lexer": "ipython3",
   "version": "3.7.1"
  }
 },
 "nbformat": 4,
 "nbformat_minor": 2
}
