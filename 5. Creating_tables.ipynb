{
 "cells": [
  {
   "cell_type": "markdown",
   "metadata": {},
   "source": [
    "# creating tables in hive"
   ]
  },
  {
   "cell_type": "markdown",
   "metadata": {},
   "source": [
    "Tables in hive are structured meaning that we will define a schema for table which indicates how our data looks like. There are Baiscally two kinds of tables in Hive\n",
    " - **Internal tables**\n",
    " - **External tables**\n",
    " \n",
    " Everything in hive is stored in HDFS only. The databases and tables will point to that specific location."
   ]
  },
  {
   "cell_type": "markdown",
   "metadata": {},
   "source": [
    "# Internal table\n",
    "\n",
    "By default every table in hive is a internal table. \n",
    "\n",
    "- if a table is internal table then both metadata and actual data is managed by hive. If we drop data then hive   will drop the both metadata and actual data which is stored in HDFS because hive is solely responsible for that.\n",
    "\n",
    "- If the table is internal table then data is in HDFS,in such cases hive does not allow other applications to access that data \n",
    "\n",
    " **When to use internal table?**\n",
    "\n",
    "- You want Hive to completely manage the lifecycle of the table and data.\n"
   ]
  },
  {
   "cell_type": "markdown",
   "metadata": {},
   "source": [
    "# External table\n",
    "\n",
    "External table is created by using the **external** keyword.\n",
    "\n",
    "- In external tables only the metadata is managed by hive and data is not in the control of hive so if we drop the table only the metadata is deleted but the data will still present in the HDFS.\n",
    "\n",
    "**When to use external table?**\n",
    "\n",
    "- When the data is also used by other applications in such case even if hive drops that data, other applications can still access that data.\n"
   ]
  },
  {
   "cell_type": "markdown",
   "metadata": {},
   "source": [
    "# Time for practical code for internal tables\n",
    "\n",
    "- **Create a new internal table**\n",
    "![](./pics/n1.png) <br>\n",
    "\n",
    "- **inssert some data into table**\n",
    "![](./pics/n2.png) <br>\n",
    "\n",
    "- **check the data location**\n",
    "![](./pics/n3.png) <br>\n",
    "\n",
    "- **Lets drop the table in hive**\n",
    "![](./pics/n4.png) <br>\n",
    "\n",
    "- **Lets again check the data location**\n",
    "![](./pics/n5.png) <br>\n",
    "\n",
    "**After drooping the table from hive, hive also deletes the data from hdfs as it is responsible for the data.**"
   ]
  },
  {
   "cell_type": "markdown",
   "metadata": {},
   "source": [
    "# Time for practical code for external tables\n",
    "\n",
    "- **Create a new external table (use external kyeword while creating an external table)**\n",
    "![](./pics/n6.png) <br>\n",
    "\n",
    "- **inssert some data into table**\n",
    "![](./pics/n7.png) <br>\n",
    "\n",
    "- **check the data location**\n",
    "![](./pics/n8.png) <br>\n",
    "\n",
    "- **Lets drop the table in hive**\n",
    "![](./pics/n9.png) <br>\n",
    "\n",
    "- **Lets again check the data location**\n",
    "![](./pics/n10.png) <br>\n",
    "\n",
    "**After drooping the table from hive, the data still exists in hive which is expected because hive is only the magae the metadata**"
   ]
  }
 ],
 "metadata": {
  "kernelspec": {
   "display_name": "Python 3",
   "language": "python",
   "name": "python3"
  },
  "language_info": {
   "codemirror_mode": {
    "name": "ipython",
    "version": 3
   },
   "file_extension": ".py",
   "mimetype": "text/x-python",
   "name": "python",
   "nbconvert_exporter": "python",
   "pygments_lexer": "ipython3",
   "version": "3.7.1"
  }
 },
 "nbformat": 4,
 "nbformat_minor": 2
}
