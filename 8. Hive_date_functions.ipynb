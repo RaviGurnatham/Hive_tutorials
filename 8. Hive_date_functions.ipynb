{
 "cells": [
  {
   "cell_type": "markdown",
   "metadata": {},
   "source": [
    "# Hive functions\n",
    "\n",
    "Hive by deafult provides functions to manipulate the data. Hive functions includes for strings, Date, mathematical functions etc.\n",
    " - Date functions\n",
    " - Mathematical functions\n",
    " - String functions"
   ]
  },
  {
   "cell_type": "markdown",
   "metadata": {},
   "source": [
    "# Date functions\n",
    "\n",
    "- **current_timestamp()**: it will return the current time in yyyy-mm-dd hh:mm:ss <br>\n",
    "\n",
    "![](./pics/n801.png)\n",
    "\n",
    "- **unix_timestamp()**: it will take date as a input and returns the unix timestampp (starts from 1970 jan 01)\n",
    "\n",
    "![](./pics/n802.png)\n",
    "\n",
    "- **Note: As the time starts from 1970 jan 01 , so if we give this date then we will get zero(0) as the answer.**\n",
    "\n",
    "![](./pics/n803.png)\n",
    "\n",
    "- **Note: Here we are passing the current_timestamp() so we will get unix timestamp for current time.**\n",
    "\n",
    "\n",
    "- **year()**: returns the year from given string.\n",
    "![](./pics/n804.png)\n",
    "- **month()**: returns the month from the given month.\n",
    "![](./pics/n805.png)\n",
    "- **day()**:  returns the day from the given day.\n",
    "![](./pics/n806.png)\n",
    "- **hour()**: returns the hour from the given date.\n",
    "\n",
    "![](./pics/n807.png)\n",
    "- **minute()**: returns the minute from the given date.\n",
    "\n",
    "![](./pics/n808.png)\n",
    "- **second()**: returns the second from the given day.\n",
    "\n",
    "![](./pics/n809.png)\n",
    "- **week of the year()**:  returns the week of the year ( value between 1 & 53)\n",
    "\n",
    "![](./pics/n810.png)\n",
    "- **date_add()**: this function will add a number of days **Ex: Free trial for 1 week** \n",
    "\n",
    "![](./pics/n811.png)\n",
    "- **datediff()**: this function will find out the difference between the given two dates.\n",
    "\n",
    "![](./pics/n812.png)\n",
    "\n",
    "\n",
    "# and many more...\n"
   ]
  }
 ],
 "metadata": {
  "kernelspec": {
   "display_name": "Python 3",
   "language": "python",
   "name": "python3"
  },
  "language_info": {
   "codemirror_mode": {
    "name": "ipython",
    "version": 3
   },
   "file_extension": ".py",
   "mimetype": "text/x-python",
   "name": "python",
   "nbconvert_exporter": "python",
   "pygments_lexer": "ipython3",
   "version": "3.7.1"
  }
 },
 "nbformat": 4,
 "nbformat_minor": 2
}
