{
 "cells": [
  {
   "cell_type": "markdown",
   "metadata": {},
   "source": [
    "# Hive functions\n",
    "\n",
    "Hive by deafult provides functions to manipulate the data. Hive functions includes for strings, Date, mathematical functions etc.\n",
    " - Date functions\n",
    " - Mathematical functions\n",
    " - String functions"
   ]
  },
  {
   "cell_type": "markdown",
   "metadata": {},
   "source": [
    "# Mathematical functions:\n"
   ]
  },
  {
   "cell_type": "markdown",
   "metadata": {},
   "source": [
    "- **round(double a) :**  this function round the given folat number\n",
    "\n",
    "![](./pics/n901.png)\n",
    "![](./pics/n902.png)\n",
    "\n",
    "\n",
    "- **floor(double a) :** this will make the number to round the below number ($\\lfloor a \\rfloor$)\n",
    "\n",
    "![](./pics/n903.png)\n",
    "\n",
    "\n",
    "- **ceil(double a) :** this will make the number to round the above number ($\\lceil a \\rceil$)\n",
    "![](./pics/n904.png)\n",
    "\n",
    "\n",
    "- **rand():** Generates a random number between 0 and 1\n",
    "![](./pics/n905.png)\n",
    "\n",
    "- **pow(double a, double p):** returns  $a^{b}$\n",
    "![](./pics/n906.png)\n",
    "\n",
    "- **sqrt(double a):** returns the square root of the given number ($\\sqrt{a}$)\n",
    "![](./pics/n908.png)\n",
    "\n",
    "- **abs(double a):**   returns the absolute of a (|a|) \n",
    "![](./pics/n909.png)\n",
    "\n",
    "- **pi():**\n",
    "![](./pics/n910.png)\n",
    "\n",
    "- **e():**\n",
    "![](./pics/n911.png)\n"
   ]
  }
 ],
 "metadata": {
  "kernelspec": {
   "display_name": "Python 3",
   "language": "python",
   "name": "python3"
  },
  "language_info": {
   "codemirror_mode": {
    "name": "ipython",
    "version": 3
   },
   "file_extension": ".py",
   "mimetype": "text/x-python",
   "name": "python",
   "nbconvert_exporter": "python",
   "pygments_lexer": "ipython3",
   "version": "3.7.1"
  }
 },
 "nbformat": 4,
 "nbformat_minor": 2
}
