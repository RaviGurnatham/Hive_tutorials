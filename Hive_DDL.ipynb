{
 "cells": [
  {
   "cell_type": "markdown",
   "metadata": {},
   "source": [
    "# Hive Data Defination Language\n",
    "As the name suggests, we are in Data defination language which deals with such as creating, deleting, dropping tables, databases etc.\n",
    "\n",
    "Before going to store any data we have to define the structure of the data such as database of the table and table columnms.\n",
    "\n"
   ]
  },
  {
   "cell_type": "markdown",
   "metadata": {},
   "source": [
    "# creating databases:\n",
    "\n",
    "Hive creates databases to store metadata **but not the data** because data stored in HDFS. We can create the tables once we created the database.\n",
    "\n",
    "DDL queries are used for creating and modifying the tables and other objects in the database.\n",
    "\n",
    "**Example for DDL queries are create, alter, drop, truncate etc.**\n"
   ]
  },
  {
   "cell_type": "markdown",
   "metadata": {},
   "source": [
    "to start a Hive shell simply run \"**hive**\"\n",
    "![](./pics/hive_start.png)\n",
    "\n",
    "If you notice the above image, the hive shell started and we are good to execute the hive commands.\n"
   ]
  },
  {
   "cell_type": "markdown",
   "metadata": {},
   "source": [
    "To list the current databases available in the hive use **show databases**\n",
    "![](pics/show_databases.png)\n",
    "\n",
    "In hive there is a **default** database which is used by default if we dont specify the database in anycase."
   ]
  },
  {
   "cell_type": "markdown",
   "metadata": {},
   "source": [
    "To create a new databse in hive, it is similar to the SQL Query **create database db_name**\n",
    "\n",
    "![](pics/create_db.png)\n",
    "\n",
    "- We have sucesfully created the **students** databse and Better way to create databse is **create database db_name if not exists** <br>\n",
    "\n",
    "- To use the created database **use students**\n",
    "![](./pics/use_students.png)\n",
    "\n",
    "\n",
    "- **Note : It is always better to use if not exists while creating tables, databases in the production environment**\n",
    "\n",
    "please see below two queries, if not exists doesn't throw an error even the database exists\n",
    "\n",
    "![](./pics/not_error.png)\n",
    "![](./pics/if_not.png)"
   ]
  },
  {
   "cell_type": "markdown",
   "metadata": {},
   "source": [
    "Whenver we create a databse, hive will create a new directory at **users/hive/warehouse**"
   ]
  },
  {
   "cell_type": "markdown",
   "metadata": {},
   "source": [
    "# view hdfs directory\n",
    "we can check that location by viewing the **hdfs directory** with **hdfs dfs -ls /user/hive/warehouse**\n",
    "![](./pics/hive_db_location.png)\n",
    "\n",
    "if we observer above image, we can clearly see that there is a folder with name of **students** \n"
   ]
  },
  {
   "cell_type": "markdown",
   "metadata": {},
   "source": [
    "# show tables\n",
    "\n",
    "Lets check for number of tables in the database \"**students\"**\n",
    "![](./pics/show_tables.png)\n",
    "\n",
    "We have not yet created any tables, so it is not showing any tables in the database"
   ]
  },
  {
   "cell_type": "markdown",
   "metadata": {},
   "source": [
    "# describe database\n",
    "\n",
    "we can view the database properties by using **describe database db_name**\n",
    "\n",
    "![](./pics/describe.png)\n",
    "\n",
    "*we can add any manual properties to database, which we can view by* **extended** command.\n",
    "\n",
    "![](./pics/db_pro.png)\n",
    "\n",
    "Below is the output of **extended**\n",
    "\n",
    "![](./pics/extended.png)\n",
    "\n"
   ]
  },
  {
   "cell_type": "markdown",
   "metadata": {},
   "source": [
    "# creating tables in the database\n",
    "- Before creating tables in database make sure that we are creating tables in correct database.\n",
    "\n",
    "- switch databases if current database is not the required database to create table.\n",
    "\n",
    "- **create table if not exists branches(id int, dept string) row format delimited fields terminated by ',' lines terminated by '\\n' stored as textfile**\n",
    "\n",
    "![](./pics/create_tabel.png)\n",
    "\n",
    "- **row format delimited** :: tells that how our records and fields are seprated in the file\n",
    "- **fields are terminated by ','** :: fields in a row is terminated by ',' in the text file\n",
    "- **lines terminated by '\\n'** :: each row is terminated by '\\n'\n",
    "\n",
    "**Lets insert some data and see how the file is storing data inside the file.**\n",
    "\n",
    "- **insert into branches values (1, 'cse'), (2,'me');**\n",
    "\n",
    "![](./pics/insert.png)\n",
    "  **data was inserted sucesfully and now lets view the data in HDFS Filesystem**"
   ]
  },
  {
   "cell_type": "markdown",
   "metadata": {},
   "source": [
    "# View the data in HDFS Filesystem"
   ]
  },
  {
   "cell_type": "markdown",
   "metadata": {},
   "source": [
    "We already know that hive uses default directory **/user/hive/warehouse/dbname/table_name** to store in the database data. So by using HDFS commands we can view the data.\n",
    "\n",
    "-Note : ***hdfs dfs*** indicates that use hadoop file system and we can combine other commands with ***hdfs dfs*** \n",
    "\n",
    " **Example:** to view contents of a directory we use ls **hdfs dfs -ls** \n",
    "- **To list the database folder** <br>\n",
    "![](./pics/hdfs_db.png)  <br>\n",
    "\n",
    "- **To list the database tables** <br>\n",
    "\n",
    "![](./pics/hdfs_tables.png) <br>\n",
    "\n",
    "- **To list the database table files** <br>\n",
    "\n",
    "![](./pics/hdfs_table_data.png) <br>\n",
    "\n",
    "\n",
    "- **To list the database table files data** <br>\n",
    "\n",
    "![](./pics/file_data.png) <br>"
   ]
  },
  {
   "cell_type": "markdown",
   "metadata": {},
   "source": [
    "**Here,we can celarly observe that fields are separated by ',' and lines are separated by '\\n'** which we mentioned while creating the table.\n",
    "\n",
    "If we change separators while creating table then it will effect the way how it is storing the data in textfile.\n",
    "\n",
    "![](./pics/new_sep.png)\n",
    "\n",
    "\n",
    "![](./pics/hive_sep.png)\n",
    "\n",
    "**If you observe when we are changing field separator then it will effecting the way how our file is storing data** "
   ]
  },
  {
   "cell_type": "markdown",
   "metadata": {},
   "source": []
  },
  {
   "cell_type": "code",
   "execution_count": null,
   "metadata": {},
   "outputs": [],
   "source": []
  }
 ],
 "metadata": {
  "kernelspec": {
   "display_name": "Python 3",
   "language": "python",
   "name": "python3"
  },
  "language_info": {
   "codemirror_mode": {
    "name": "ipython",
    "version": 3
   },
   "file_extension": ".py",
   "mimetype": "text/x-python",
   "name": "python",
   "nbconvert_exporter": "python",
   "pygments_lexer": "ipython3",
   "version": "3.7.1"
  }
 },
 "nbformat": 4,
 "nbformat_minor": 2
}
